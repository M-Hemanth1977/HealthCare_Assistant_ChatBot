{
 "cells": [
  {
   "cell_type": "code",
   "execution_count": null,
   "metadata": {
    "colab": {
     "base_uri": "https://localhost:8080/"
    },
    "id": "IR4ovrfpvR7D",
    "outputId": "c7480cb3-30d1-4da4-d734-27725a59cbe7"
   },
   "outputs": [],
   "source": [
    "!pip install wandb"
   ]
  },
  {
   "cell_type": "code",
   "execution_count": null,
   "metadata": {
    "id": "Q7Np8TJhElpK"
   },
   "outputs": [],
   "source": [
    "import os\n",
    "from transformers import AutoTokenizer,AutoModelForCausalLM"
   ]
  },
  {
   "cell_type": "code",
   "execution_count": null,
   "metadata": {
    "id": "FrP1O54SJRBy"
   },
   "outputs": [],
   "source": [
    "os.environ[\"HF_TOKEN\"]=os.getenv(\"hf_api_key\")\n",
    "os.environ[\"WANDB_DISABLED\"] = \"true\""
   ]
  },
  {
   "cell_type": "code",
   "execution_count": null,
   "metadata": {
    "colab": {
     "base_uri": "https://localhost:8080/",
     "height": 365,
     "referenced_widgets": [
      "226df5c4eb6c4522a6932d6c3c0a52d6",
      "3cb8616484e44708b8ce5ad2cb8adb31",
      "4806acd7d3194a5f9f679e98b2993e5c",
      "5ed1dfbfcaca4b86b87900ee3b098939",
      "734a92ae126f4ceeb56f9e803ccf7a60",
      "2b744b7c6d694f50ae1ef2ad5e8334f8",
      "37132ad4950f4ef787fe748ce874d851",
      "0673a0a2b5bc4a009b5586b1b96cf414",
      "0661eff6233148e4afcfefcd48c3e5d2",
      "d08e9fcda36c47c2a687e547b30f5036",
      "16e291bbab5a4013a8640a9201dd098e",
      "0a9c02f18c664cae8004a4d305eefbfc",
      "eb3ec342a823435dbc2b45c16585181c",
      "9b427e8b4bdf406b9f2ca269d5e1566a",
      "b3b6fe07408c4d41aaaf81869169171a",
      "a72026da000c42cfabe5f78634afc5a2",
      "4c89c68a53484149af7c36ade1e2a072",
      "66a420d82f4d48e98ad4e4f70463cc23",
      "35f353712ef74a768a015a48926ea102",
      "564536e0bd9747399a633a6937a918eb",
      "201d574687074d3abf7a044af9824cbe",
      "12fba7404c3a4748bc11fd3c4315c46d",
      "3f67d936a88a41b286b2e378f63fe27f",
      "9cde3e958a5c472b8c2ef0ad2542ec52",
      "cc18aa097c584e40a9812419e6691d88",
      "556bac44f5144ccc8edf2861bddd8d6b",
      "10dd408d0d984ad1852fe259f19b0710",
      "3576ba1e38054222a6d44992912687e6",
      "e556d728aea949d4869a65d6d2761b9a",
      "035ade8f2d7147bebf68ab23e1c0e8e8",
      "c9a334699b58440d887d8ef464b735cf",
      "b763c511d4c843c990a5d406c4f3ecdf",
      "6cb6d988e0554fe2a7a2c738ed04a598",
      "792c6bda8fbb4494ab39d773fa65ba67",
      "16c135fc4340486795844aa1d901ae04",
      "8453c9b872964d5fbaa7979a54634415",
      "f66a5bcb33eb4f38aa221a851d952a4c",
      "7c83361c2c2f4bf3bc281c4fdc7a05e8",
      "656fa821dc1940e082d523c69c4be34f",
      "0ae2577fd9634642b6d1e67d4d658c5c",
      "cd635a69f93a466883e333e381fb4fa8",
      "2c0aa07a43e14342aa69de07266db063",
      "b232401734154c459e9325e26d7b8e2a",
      "01671f41955d42449f3545c901276789",
      "09c75bc4cba545b3a294c5fd59f2b6fc",
      "cf4ca00a5b4c44e08bd13440345fbfd2",
      "6c6dc0b34b2d46899571a05198cb98e2",
      "07a64237b4a942628431d8b6ecf22dd5",
      "17f3956ffaa24e73a702b7557dcee5aa",
      "d609e0fcbbad4dcba74aa3b71ac4357e",
      "aa3414a2b927498d804f6d71974556da",
      "1c46db36c08c40d889d9841c6b92a96d",
      "d59e39956b2e477c9374ade780d05a87",
      "a3cd7ed5dba4494f8296b34c6bd482b2",
      "fad81ce66c6a480baad05221a032b4b8",
      "73497e2a1987425680a3354c0247bf80",
      "cca744ccec134a3592a260f3a0e03800",
      "7dca8b1061d743c5b16da8d9c71430f3",
      "dec8e7dbdd15406e8b253a77df4d27aa",
      "22ff17c257ed4e7c90247494d1711cc9",
      "799bf6c56419424094931e2c662f655c",
      "ecd1d69bed434035bf00ac60664f9362",
      "d841eb613aca435ba9c3c8a6e29fe307",
      "8123c56ae0384be696d2d8e4701cdaa0",
      "c21cc39ee0b647f8aa0206f40a93d066",
      "23a7f50676654cd5b36e1ebdb28f4a46",
      "b1b380e45a314fda97f05b609a2e962e",
      "527f93bf621045a6b1db71e6627dfde1",
      "fa85840de97f4407aae51cd0eb80399f",
      "28a27c8094a3487f9230308e7e045e4b",
      "a41498a0a3d6404bb6f7ef5d96a81741",
      "e63b1e40e4ff4defa68f830dc647b835",
      "455b1e92b24a4fb8ad6bc414abddb2cc",
      "5a92da2b207144eea3718265f73ccf6e",
      "7cb4eb06a6ca4e13bb4b3059e17b3b24",
      "4a208f2f4d404306a63354a8ffacefdd",
      "ac0d7564a0234b8987add9196e49eaa9"
     ]
    },
    "id": "JE8K6KS1JodC",
    "outputId": "8299616d-31de-4b7b-e9fb-8d9585e6346f"
   },
   "outputs": [],
   "source": [
    "hf_model=\"TinyLlama/TinyLlama-1.1B-Chat-v1.0\"\n",
    "tokenizer=AutoTokenizer.from_pretrained(hf_model)\n",
    "model=AutoModelForCausalLM.from_pretrained(hf_model)"
   ]
  },
  {
   "cell_type": "code",
   "execution_count": null,
   "metadata": {
    "id": "FUvr5yk2Klaz"
   },
   "outputs": [],
   "source": [
    "from peft import LoraConfig,get_peft_model,TaskType"
   ]
  },
  {
   "cell_type": "code",
   "execution_count": null,
   "metadata": {
    "id": "AZqoJJiHLCHh"
   },
   "outputs": [],
   "source": [
    "configuration=LoraConfig(task_type=TaskType.CAUSAL_LM,\n",
    "                         r=4,\n",
    "                         lora_alpha=8,\n",
    "                         lora_dropout=0.1,\n",
    "                         bias=\"none\",\n",
    "                         target_modules=[\"q_proj\", \"k_proj\", \"v_proj\", \"o_proj\"])\n",
    "\n",
    "\n",
    "lora_model=get_peft_model(model=model,peft_config=configuration)"
   ]
  },
  {
   "cell_type": "code",
   "execution_count": null,
   "metadata": {
    "colab": {
     "base_uri": "https://localhost:8080/"
    },
    "id": "21xvkdZ3M8Ed",
    "outputId": "cdd17e17-a9df-4c16-fa20-a3a488f76dfa"
   },
   "outputs": [],
   "source": [
    "lora_model.print_trainable_parameters()"
   ]
  },
  {
   "cell_type": "code",
   "execution_count": null,
   "metadata": {
    "id": "Fu4paPC_UeAU"
   },
   "outputs": [],
   "source": [
    "with open(\"Q&A outputs.txt\",\"r\") as fi:\n",
    "  lk=[]\n",
    "  for l in fi:\n",
    "    lk.append(l)"
   ]
  },
  {
   "cell_type": "code",
   "execution_count": null,
   "metadata": {
    "id": "gyFpPH4kVwSr"
   },
   "outputs": [],
   "source": [
    "# lk"
   ]
  },
  {
   "cell_type": "code",
   "execution_count": null,
   "metadata": {
    "id": "S9E62OQES295"
   },
   "outputs": [],
   "source": [
    "import re\n",
    "\n",
    "def load_qa_pairs(file_name):\n",
    "  pairs=[]\n",
    "\n",
    "  with open(file_name,\"r\") as f:\n",
    "    lines=[]\n",
    "\n",
    "    for l in f:\n",
    "      if 'here' in l.strip().lower():\n",
    "        continue\n",
    "      if l.strip() and l.strip()!='\\n':\n",
    "        l=l.strip().replace('\\n','')\n",
    "        lines.append(l)\n",
    "\n",
    "    for i in range(0,len(lines),2):\n",
    "      if i+1 < len(lines):\n",
    "        q=re.sub(r'^Q\\d+:\\s*', '', lines[i]).strip()\n",
    "        a=re.sub(r'^A\\d+:\\s*', '', lines[i+1]).strip()\n",
    "        pairs.append({\"question\":q,\"answer\":a})\n",
    "\n",
    "  return pairs"
   ]
  },
  {
   "cell_type": "code",
   "execution_count": null,
   "metadata": {
    "id": "2yH9uS0IR2El"
   },
   "outputs": [],
   "source": [
    "q_a_data=load_qa_pairs(\"Q&A outputs.txt\")"
   ]
  },
  {
   "cell_type": "code",
   "execution_count": null,
   "metadata": {
    "id": "qFmEevHYR1_m"
   },
   "outputs": [],
   "source": [
    "# q_a_data"
   ]
  },
  {
   "cell_type": "code",
   "execution_count": null,
   "metadata": {
    "colab": {
     "base_uri": "https://localhost:8080/"
    },
    "id": "W812nPnTBkrO",
    "outputId": "f31c3821-f56b-4ccd-ba10-fd4228ae0a27"
   },
   "outputs": [],
   "source": [
    "!pip install datasets"
   ]
  },
  {
   "cell_type": "code",
   "execution_count": null,
   "metadata": {
    "colab": {
     "base_uri": "https://localhost:8080/"
    },
    "id": "RSup3nzridpo",
    "outputId": "80b53adc-ade2-4bc5-bf8e-1a95083acb22"
   },
   "outputs": [],
   "source": [
    "from datasets import Dataset\n",
    "q_a_data=Dataset.from_list(q_a_data)\n",
    "q_a_data"
   ]
  },
  {
   "cell_type": "code",
   "execution_count": null,
   "metadata": {
    "id": "dSSbOVnFmpC0"
   },
   "outputs": [],
   "source": [
    "def tokenize_function(example):\n",
    "    tokenized = tokenizer(\n",
    "        example['question'],\n",
    "        padding=\"max_length\",\n",
    "        max_length=512,\n",
    "        truncation=True\n",
    "    )\n",
    "\n",
    "    labels_generated = tokenizer(\n",
    "        example['answer'],\n",
    "        padding=\"max_length\",\n",
    "        max_length=512,\n",
    "        truncation=True\n",
    "    )\n",
    "\n",
    "    labels = labels_generated['input_ids']\n",
    "    labels = [label if label != tokenizer.pad_token_id else -100 for label in labels]\n",
    "\n",
    "    tokenized['labels'] = labels\n",
    "\n",
    "    return tokenized\n"
   ]
  },
  {
   "cell_type": "code",
   "execution_count": null,
   "metadata": {
    "colab": {
     "base_uri": "https://localhost:8080/",
     "height": 49,
     "referenced_widgets": [
      "30ed1858e9fd4ce78ea515e3833982bc",
      "b6f329ddd59a4bb38dde5dbba682623f",
      "f7f5bacd1ec74ee3b89c14e3d121bd86",
      "8f54d6fcf06f44cf80b1106d6c3959c5",
      "c26a0239f378440d84bb3847b023d55e",
      "b1782343011a4951b38b1ce18f58c2c2",
      "19912d0f91924fd6834b5ddb508ba6db",
      "c038e15008cb4c7787d4820c1eec82cd",
      "43284fb6141042cf8c66faf80f76a7bb",
      "cf40e5e85b34454eb11181f8ee783484",
      "a8445c557ef44199be5cfd18c09f24d2"
     ]
    },
    "id": "La1DDA7pjr1O",
    "outputId": "7ce8f75f-f11f-4aab-944e-6e62bb804144"
   },
   "outputs": [],
   "source": [
    "tokenized_q_a_data=q_a_data.map(tokenize_function,remove_columns=['question','answer'])"
   ]
  },
  {
   "cell_type": "code",
   "execution_count": null,
   "metadata": {
    "colab": {
     "base_uri": "https://localhost:8080/"
    },
    "id": "vRGaD-S9pALb",
    "outputId": "c9cd66c4-2145-4b7f-cf79-2e7d0892bbfb"
   },
   "outputs": [],
   "source": [
    "tokenized_q_a_data"
   ]
  },
  {
   "cell_type": "code",
   "execution_count": null,
   "metadata": {
    "colab": {
     "base_uri": "https://localhost:8080/"
    },
    "id": "seYW3ea8sjPr",
    "outputId": "a45bd8f6-f0a4-4e09-fa46-f1696deec2cd"
   },
   "outputs": [],
   "source": [
    "tokenizer.pad_token_id"
   ]
  },
  {
   "cell_type": "code",
   "execution_count": null,
   "metadata": {
    "colab": {
     "base_uri": "https://localhost:8080/"
    },
    "id": "QCXVVnNqqPq6",
    "outputId": "7e34b966-e291-4b80-8562-0dc542114c09"
   },
   "outputs": [],
   "source": [
    "print(tokenized_q_a_data[0])"
   ]
  },
  {
   "cell_type": "code",
   "execution_count": null,
   "metadata": {
    "id": "j6X2FVNxAjWC"
   },
   "outputs": [],
   "source": [
    "import torch"
   ]
  },
  {
   "cell_type": "code",
   "execution_count": null,
   "metadata": {
    "id": "WpQ7aQel_Xzm"
   },
   "outputs": [],
   "source": [
    "from transformers import DataCollatorForLanguageModeling\n",
    "\n",
    "data_collator = DataCollatorForLanguageModeling(tokenizer=tokenizer, mlm=False)"
   ]
  },
  {
   "cell_type": "code",
   "execution_count": null,
   "metadata": {
    "id": "v4RtxFRjKQq8"
   },
   "outputs": [],
   "source": [
    "from transformers import Trainer,TrainingArguments"
   ]
  },
  {
   "cell_type": "code",
   "execution_count": null,
   "metadata": {
    "colab": {
     "base_uri": "https://localhost:8080/"
    },
    "id": "fzgmDz42G74n",
    "outputId": "e17f6bb9-8666-4a01-9588-ddac1cd27abd"
   },
   "outputs": [],
   "source": [
    "training_arguments=TrainingArguments(output_dir=r\"./llama3-lora-qa\",\n",
    "                                     per_device_train_batch_size=1,\n",
    "                                     gradient_accumulation_steps=4,\n",
    "                                     learning_rate=0.001,\n",
    "                                     num_train_epochs=3,\n",
    "                                     logging_steps=10,\n",
    "                                     save_strategy=\"epoch\",\n",
    "                                     fp16=False,\n",
    "                                     label_names=[\"labels\"])\n",
    "\n",
    "# training_arguments"
   ]
  },
  {
   "cell_type": "code",
   "execution_count": null,
   "metadata": {
    "id": "UcBL_St1FjOx"
   },
   "outputs": [],
   "source": [
    "trainer=Trainer(model=lora_model,\n",
    "        args=training_arguments,\n",
    "        train_dataset=tokenized_q_a_data,\n",
    "        # tokenizer=tokenizer,\n",
    "        data_collator=data_collator\n",
    "        )"
   ]
  },
  {
   "cell_type": "code",
   "execution_count": null,
   "metadata": {
    "colab": {
     "base_uri": "https://localhost:8080/",
     "height": 768
    },
    "id": "mCXg6l9-wWfX",
    "outputId": "a37e21a1-9058-4f1e-bd64-e364bc522597"
   },
   "outputs": [],
   "source": [
    "trainer.train()"
   ]
  },
  {
   "cell_type": "code",
   "execution_count": null,
   "metadata": {
    "colab": {
     "base_uri": "https://localhost:8080/"
    },
    "id": "nrc3yBesPgkK",
    "outputId": "e38492b6-e376-4689-8e1c-620f07465612"
   },
   "outputs": [],
   "source": [
    "lora_model.print_trainable_parameters()"
   ]
  },
  {
   "cell_type": "code",
   "execution_count": null,
   "metadata": {
    "colab": {
     "base_uri": "https://localhost:8080/"
    },
    "id": "vNB3ECG4OoJa",
    "outputId": "5d4d944b-cc51-4a82-8d6d-22386853dfda"
   },
   "outputs": [],
   "source": [
    "print(type(lora_model))"
   ]
  },
  {
   "cell_type": "code",
   "execution_count": null,
   "metadata": {
    "colab": {
     "base_uri": "https://localhost:8080/"
    },
    "id": "tHWmE3ABN5nA",
    "outputId": "1f21f9ee-358e-45aa-af0b-7f3f81afe942"
   },
   "outputs": [],
   "source": [
    "lora_model.save_pretrained(\"./llama3-lora-qa\")\n",
    "tokenizer.save_pretrained(\"./llama3-lora-qa\")"
   ]
  },
  {
   "cell_type": "code",
   "execution_count": null,
   "metadata": {
    "colab": {
     "base_uri": "https://localhost:8080/"
    },
    "id": "Q00JVd5MDBx0",
    "outputId": "aec0cd95-2ad6-43a6-cd7c-69cd09a33be7"
   },
   "outputs": [],
   "source": [
    "from peft import PeftModel\n",
    "\n",
    "base_model = AutoModelForCausalLM.from_pretrained(hf_model)\n",
    "model = PeftModel.from_pretrained(base_model, \"./llama3-lora-qa\")\n",
    "\n",
    "tokenizer = AutoTokenizer.from_pretrained(\"./llama3-lora-qa\")\n",
    "model.eval()\n"
   ]
  },
  {
   "cell_type": "code",
   "execution_count": null,
   "metadata": {
    "id": "tkIeNfbLDDg6"
   },
   "outputs": [],
   "source": [
    "question = \"what leads to hear attacks?\"\n",
    "\n",
    "inputs = tokenizer(question, return_tensors=\"pt\").to(\"cpu\")\n",
    "\n",
    "with torch.no_grad():\n",
    "    output = model.generate(\n",
    "        input_ids=inputs[\"input_ids\"],\n",
    "        attention_mask=inputs[\"attention_mask\"],\n",
    "        max_new_tokens=100,\n",
    "        temperature=0.7,\n",
    "        do_sample=True,\n",
    "        eos_token_id=tokenizer.eos_token_id\n",
    "    )\n",
    "\n",
    "response = tokenizer.decode(output[0], skip_special_tokens=True,clean_up_tokenization_spaces=True)\n"
   ]
  },
  {
   "cell_type": "code",
   "execution_count": null,
   "metadata": {
    "colab": {
     "base_uri": "https://localhost:8080/",
     "height": 88
    },
    "id": "osEaCK2MMqPb",
    "outputId": "73e038df-d067-42fd-cfaf-c134813fb135"
   },
   "outputs": [],
   "source": [
    "response"
   ]
  },
  {
   "cell_type": "code",
   "execution_count": null,
   "metadata": {
    "colab": {
     "base_uri": "https://localhost:8080/",
     "height": 36
    },
    "id": "VYmU5qMQLuUX",
    "outputId": "7565e0c9-a416-47af-c18a-f1760828fb93"
   },
   "outputs": [],
   "source": [
    "import shutil\n",
    "import zipfile\n",
    "\n",
    "shutil.make_archive(\"llama3-lora-qa\", 'zip', \"llama3-lora-qa\")"
   ]
  }
 ],
 "metadata": {
  "accelerator": "GPU",
  "colab": {
   "gpuType": "T4",
   "provenance": []
  },
  "kernelspec": {
   "display_name": "venv",
   "language": "python",
   "name": "python3"
  },
  "language_info": {
   "name": "python",
   "version": "3.12.0"
  }
 },
 "nbformat": 4,
 "nbformat_minor": 0
}
